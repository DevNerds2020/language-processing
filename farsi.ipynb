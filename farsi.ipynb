{
 "cells": [
  {
   "cell_type": "code",
   "execution_count": 1,
   "metadata": {},
   "outputs": [
    {
     "ename": "ModuleNotFoundError",
     "evalue": "No module named 'hazm'",
     "output_type": "error",
     "traceback": [
      "\u001b[1;31m---------------------------------------------------------------------------\u001b[0m",
      "\u001b[1;31mModuleNotFoundError\u001b[0m                       Traceback (most recent call last)",
      "Cell \u001b[1;32mIn[1], line 1\u001b[0m\n\u001b[1;32m----> 1\u001b[0m \u001b[39mimport\u001b[39;00m \u001b[39mhazm\u001b[39;00m\n\u001b[0;32m      2\u001b[0m \u001b[39mimport\u001b[39;00m \u001b[39mnltk\u001b[39;00m\n\u001b[0;32m      3\u001b[0m \u001b[39mimport\u001b[39;00m \u001b[39mpandas\u001b[39;00m\n",
      "\u001b[1;31mModuleNotFoundError\u001b[0m: No module named 'hazm'"
     ]
    }
   ],
   "source": [
    "import hazm\n",
    "import nltk\n",
    "import pandas\n",
    "from __future__ import unicode_literals\n",
    "from hazm import *\n",
    "import re \n",
    "from parsivar import Normalizer\n",
    "from parsivar import Tokenizer\n",
    "import pickle\n",
    "import arabic_reshaper\n",
    "import wget"
   ]
  },
  {
   "cell_type": "code",
   "execution_count": null,
   "metadata": {},
   "outputs": [
    {
     "ename": "",
     "evalue": "",
     "output_type": "error",
     "traceback": [
      "\u001b[1;31mRunning cells with 'c:\\Users\\alast\\AppData\\Local\\Programs\\Python\\Python38\\python.exe' requires the ipykernel package.\n",
      "\u001b[1;31mRun the following command to install 'ipykernel' into the Python environment. \n",
      "\u001b[1;31mCommand: 'c:/Users/alast/AppData/Local/Programs/Python/Python38/python.exe -m pip install ipykernel -U --user --force-reinstall'"
     ]
    }
   ],
   "source": [
    "df = pandas.read_excel('final_books.xlsx')\n",
    "df.info()"
   ]
  },
  {
   "cell_type": "code",
   "execution_count": null,
   "metadata": {},
   "outputs": [],
   "source": [
    "df.iloc[502]['content']"
   ]
  },
  {
   "cell_type": "code",
   "execution_count": null,
   "metadata": {},
   "outputs": [],
   "source": [
    "def remove_punctuations(text):\n",
    "    punctuations = '''!()-[]{};:'\"\\,<>./?@#$%^&*_~،'''\n",
    "    for char in text:\n",
    "        if char in punctuations:\n",
    "            text = text.replace(char, \"\")\n",
    "    return text"
   ]
  },
  {
   "cell_type": "code",
   "execution_count": null,
   "metadata": {},
   "outputs": [],
   "source": [
    "import hazm\n",
    "\n",
    "normalizer = Normalizer()\n",
    "lemmatizer = hazm.Lemmatizer()\n",
    "stop_words = hazm.stopwords_list()\n",
    "\n",
    "tokens = []\n",
    "lemmatized_tokens = []\n",
    "for index, row in df.iterrows():\n",
    "    content = row['content'] \n",
    "    norm_content = normalizer.normalize(str(content))\n",
    "    norm_content_no_punctuations = remove_punctuations(norm_content)\n",
    "    tokenized_sentences = hazm.sent_tokenize(norm_content_no_punctuations)\n",
    "    content_tokenized_words = []\n",
    "    for sentence in tokenized_sentences:\n",
    "        try:\n",
    "            tokenized_words = hazm.word_tokenize(sentence)\n",
    "            filtered_words = [word for word in tokenized_words if word not in stop_words]\n",
    "            content_tokenized_words.extend(filtered_words)\n",
    "            for word in filtered_words:\n",
    "                lemmatizedWord = lemmatizer.lemmatize(word)\n",
    "                lemmatized_tokens.append((index, lemmatizedWord))\n",
    "        except:\n",
    "            print(\"error\")  \n",
    "    tokens.extend(content_tokenized_words)"
   ]
  },
  {
   "cell_type": "code",
   "execution_count": null,
   "metadata": {},
   "outputs": [],
   "source": [
    "def create_word_index(arr):\n",
    "    word_index = {}\n",
    "    for doc_id, word in arr:\n",
    "        if word in word_index:\n",
    "            word_index[word].append(doc_id)\n",
    "        else:\n",
    "            word_index[word] = [doc_id]\n",
    "    return dict(sorted(word_index.items(), key=lambda x: len(x[1]), reverse=True))"
   ]
  },
  {
   "cell_type": "code",
   "execution_count": null,
   "metadata": {},
   "outputs": [],
   "source": [
    "word_index = create_word_index(lemmatized_tokens)"
   ]
  },
  {
   "cell_type": "code",
   "execution_count": null,
   "metadata": {},
   "outputs": [],
   "source": [
    "first_key, first_value = next(iter(word_index.items()))\n",
    "print(first_key, first_value[0:100])"
   ]
  },
  {
   "cell_type": "code",
   "execution_count": null,
   "metadata": {},
   "outputs": [],
   "source": [
    "def sort_dict_values(d):\n",
    "    sorted_dict = {}\n",
    "    for k in d:\n",
    "        sorted_dict[k] = sorted(set(d[k]), key=d[k].count, reverse=True)\n",
    "    return sorted_dict"
   ]
  },
  {
   "cell_type": "code",
   "execution_count": null,
   "metadata": {},
   "outputs": [],
   "source": [
    "sorted_word_index = sort_dict_values(word_index)\n",
    "first_key, first_value = next(iter(sorted_word_index.items()))\n",
    "print(first_key, first_value[0:10])"
   ]
  },
  {
   "cell_type": "code",
   "execution_count": null,
   "metadata": {},
   "outputs": [],
   "source": [
    "# Save the word_dictionaries object to a file\n",
    "with open('index_dict.pkl', 'wb') as f:\n",
    "    pickle.dump(sorted_word_index, f)"
   ]
  }
 ],
 "metadata": {
  "kernelspec": {
   "display_name": "Python 3",
   "language": "python",
   "name": "python3"
  },
  "language_info": {
   "codemirror_mode": {
    "name": "ipython",
    "version": 3
   },
   "file_extension": ".py",
   "mimetype": "text/x-python",
   "name": "python",
   "nbconvert_exporter": "python",
   "pygments_lexer": "ipython3",
   "version": "3.10.4"
  },
  "orig_nbformat": 4
 },
 "nbformat": 4,
 "nbformat_minor": 2
}
