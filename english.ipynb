{
 "cells": [
  {
   "cell_type": "code",
   "execution_count": 1,
   "metadata": {},
   "outputs": [],
   "source": [
    "import nltk\n",
    "import pandas\n",
    "from __future__ import unicode_literals\n",
    "import re \n",
    "# !unzip /root/nltk_data/corpora/wordnet.zip -d /root/nltk_data/corpora/\n",
    "# !unzip /root/nltk_data/corpora/stopwordsy.zip -d /root/nltk_data/corpora/\n",
    "from nltk.tokenize import word_tokenize  \n",
    "from nltk.corpus import stopwords\n",
    "from nltk.stem import WordNetLemmatizer\n",
    "from nltk.stem.snowball import SnowballStemmer\n",
    "from nltk.stem.porter import *\n",
    "import pickle"
   ]
  },
  {
   "cell_type": "code",
   "execution_count": 2,
   "metadata": {},
   "outputs": [
    {
     "name": "stdout",
     "output_type": "stream",
     "text": [
      "<class 'pandas.core.frame.DataFrame'>\n",
      "RangeIndex: 42303 entries, 0 to 42302\n",
      "Data columns (total 2 columns):\n",
      " #   Column  Non-Null Count  Dtype \n",
      "---  ------  --------------  ----- \n",
      " 0   id      42303 non-null  int64 \n",
      " 1   text    42303 non-null  object\n",
      "dtypes: int64(1), object(1)\n",
      "memory usage: 661.1+ KB\n"
     ]
    }
   ],
   "source": [
    "en_df = pandas.read_csv(\"plot_summaries.txt\", delimiter = \"\\t\",names=[\"id\",\"text\"])\n",
    "en_df.info()"
   ]
  },
  {
   "cell_type": "code",
   "execution_count": null,
   "metadata": {},
   "outputs": [],
   "source": [
    "nltk.download('punkt')"
   ]
  },
  {
   "cell_type": "code",
   "execution_count": null,
   "metadata": {},
   "outputs": [],
   "source": [
    "row_tokens = []\n",
    "for index, row in en_df.iterrows():\n",
    "  content = row['text'] \n",
    "  tokens = nltk.word_tokenize(normalize_sentence(content))\n",
    "  row_tokens.extend(tokens)"
   ]
  },
  {
   "cell_type": "code",
   "execution_count": null,
   "metadata": {},
   "outputs": [],
   "source": [
    "nltk.download('wordnet')\n",
    "nltk.download('stopwords')"
   ]
  },
  {
   "cell_type": "code",
   "execution_count": null,
   "metadata": {},
   "outputs": [],
   "source": [
    "def create_word_index(arr):\n",
    "    word_index = {}\n",
    "    for doc_id, word in arr:\n",
    "        if word in word_index:\n",
    "            word_index[word].append(doc_id)\n",
    "        else:\n",
    "            word_index[word] = [doc_id]\n",
    "    return dict(sorted(word_index.items(), key=lambda x: len(x[1]), reverse=True))"
   ]
  },
  {
   "cell_type": "code",
   "execution_count": null,
   "metadata": {},
   "outputs": [],
   "source": [
    "tokenx_with_index = []\n",
    "\n",
    "p_stemmer = PorterStemmer()\n",
    "for index, row in en_df.iterrows():\n",
    "    text = row['text']\n",
    "    #Tokenization\n",
    "    nltk_tokenList = word_tokenize(text)\n",
    "    \n",
    "    #Stemming\n",
    "    nltk_stemedList = []\n",
    "    for word in nltk_tokenList:\n",
    "        nltk_stemedList.append(p_stemmer.stem(word))\n",
    "    \n",
    "    #Lemmatization\n",
    "    wordnet_lemmatizer = WordNetLemmatizer()\n",
    "    nltk_lemmaList = []\n",
    "    for word in nltk_stemedList:\n",
    "        nltk_lemmaList.append(wordnet_lemmatizer.lemmatize(word))\n",
    "    \n",
    "    filtered_sentence = []  \n",
    "    nltk_stop_words = set(stopwords.words(\"english\"))\n",
    "    for w in nltk_lemmaList:  \n",
    "        if w not in nltk_stop_words:  \n",
    "            filtered_sentence.append(w)\n",
    "    #Removing Punctuation\n",
    "    punctuations=\"?:!.,;\"\n",
    "    for word in filtered_sentence:\n",
    "        if word in punctuations:\n",
    "            filtered_sentence.remove(word)\n",
    "    \n",
    "    for token in filtered_sentence:\n",
    "      tokenx_with_index.append((index, token))"
   ]
  },
  {
   "cell_type": "code",
   "execution_count": null,
   "metadata": {},
   "outputs": [],
   "source": [
    "def create_word_index(arr):\n",
    "    word_index = {}\n",
    "    for doc_id, word in arr:\n",
    "        if word in word_index:\n",
    "            word_index[word].append(doc_id)\n",
    "        else:\n",
    "            word_index[word] = [doc_id]\n",
    "    return dict(sorted(word_index.items(), key=lambda x: len(x[1]), reverse=True))"
   ]
  },
  {
   "cell_type": "code",
   "execution_count": null,
   "metadata": {},
   "outputs": [],
   "source": [
    "clean_word_dict = create_word_index(tokenx_with_index)"
   ]
  },
  {
   "cell_type": "code",
   "execution_count": null,
   "metadata": {},
   "outputs": [],
   "source": [
    "def sort_dict_values(d):\n",
    "    sorted_dict = {}\n",
    "    for k in d:\n",
    "        sorted_dict[k] = sorted(set(d[k]), key=d[k].count, reverse=True)\n",
    "    return sorted_dict\n"
   ]
  },
  {
   "cell_type": "code",
   "execution_count": null,
   "metadata": {},
   "outputs": [],
   "source": [
    "sorted_dict = sort_dict_values(clean_word_dict)\n",
    "len(sorted_dict.keys())"
   ]
  },
  {
   "cell_type": "code",
   "execution_count": null,
   "metadata": {},
   "outputs": [],
   "source": [
    "first_key, first_value = next(iter(sorted_dict.items()))\n",
    "print(first_key, first_value[0:10])"
   ]
  },
  {
   "cell_type": "code",
   "execution_count": null,
   "metadata": {},
   "outputs": [],
   "source": [
    "# Save the word_dictionaries object to a file\n",
    "with open('index_dict_eng.pkl', 'wb') as f:\n",
    "    pickle.dump(sorted_dict, f)"
   ]
  },
  {
   "cell_type": "code",
   "execution_count": null,
   "metadata": {},
   "outputs": [],
   "source": [
    "import matplotlib.pyplot as plt\n",
    "from wordcloud import WordCloud\n",
    "\n",
    "#convert list to string and generate\n",
    "unique_string=(\" \").join(texts)\n",
    "wordcloud = WordCloud(width = 1000, height = 500).generate(unique_string)\n",
    "plt.figure(figsize=(20,20))\n",
    "plt.imshow(wordcloud)\n",
    "plt.axis(\"off\")\n",
    "plt.savefig(\"your_file_name\"+\".png\", bbox_inches='tight')\n",
    "plt.show()\n",
    "plt.close()"
   ]
  },
  {
   "cell_type": "code",
   "execution_count": null,
   "metadata": {},
   "outputs": [],
   "source": [
    "print(\"Word count freq : \")\n",
    "dic = WordCloud().process_text(unique_string)\n",
    "{k: v for k, v in sorted(dic.items(), key=lambda item: item[1])}"
   ]
  },
  {
   "cell_type": "code",
   "execution_count": null,
   "metadata": {},
   "outputs": [],
   "source": [
    "nlp = spacy.load('en_core_web_sm')\n",
    "\n",
    "doc = nlp(unique_string)\n",
    "lis = []\n",
    "for token in doc:\n",
    "    print(token ,'---->', token.lemma_)\n",
    "    lis.append(token.lemma_)\n",
    "  \n",
    "en_df['lemm_spacy'] = pandas.DataFrame(lis)"
   ]
  },
  {
   "cell_type": "code",
   "execution_count": null,
   "metadata": {},
   "outputs": [],
   "source": [
    "nltk.download('averaged_perceptron_tagger')\n"
   ]
  },
  {
   "cell_type": "code",
   "execution_count": null,
   "metadata": {},
   "outputs": [],
   "source": [
    "import nltk\n",
    "\n",
    "from nltk.stem import WordNetLemmatizer\n",
    " \n",
    "# Create WordNetLemmatizer object\n",
    "wnl = WordNetLemmatizer()\n",
    "\n",
    " \n",
    "# single word lemmatization examples\n",
    "list1 = ['kites', 'babies', 'dogs', 'flying', 'smiling',\n",
    "         'driving', 'died', 'tried', 'feet']\n",
    "for words in list1:\n",
    "    print(words + \" ---> \" + wnl.lemmatize(words))"
   ]
  },
  {
   "cell_type": "code",
   "execution_count": null,
   "metadata": {},
   "outputs": [],
   "source": [
    "from nltk.stem import \tWordNetLemmatizer\n",
    "wordnet_lemmatizer = WordNetLemmatizer()\n",
    "lis = []\n",
    "for w in texts:\n",
    "  print(\"Lemma for {} is {}\".format(w, wordnet_lemmatizer.lemmatize(w)))\n",
    "  lis.append(wordnet_lemmatizer.lemmatize(w))\n"
   ]
  }
 ],
 "metadata": {
  "kernelspec": {
   "display_name": "Python 3",
   "language": "python",
   "name": "python3"
  },
  "language_info": {
   "codemirror_mode": {
    "name": "ipython",
    "version": 3
   },
   "file_extension": ".py",
   "mimetype": "text/x-python",
   "name": "python",
   "nbconvert_exporter": "python",
   "pygments_lexer": "ipython3",
   "version": "3.10.4"
  },
  "orig_nbformat": 4,
  "vscode": {
   "interpreter": {
    "hash": "369f2c481f4da34e4445cda3fffd2e751bd1c4d706f27375911949ba6bb62e1c"
   }
  }
 },
 "nbformat": 4,
 "nbformat_minor": 2
}
